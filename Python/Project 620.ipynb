{
 "cells": [
  {
   "cell_type": "markdown",
   "metadata": {
    "toc": true
   },
   "source": [
    "<h1>Table of Contents<span class=\"tocSkip\"></span></h1>\n",
    "<div class=\"toc\"><ul class=\"toc-item\"><li><span><a href=\"#Part-I:-Analytical-Option-Formulae\" data-toc-modified-id=\"Part-I:-Analytical-Option-Formulae-1\"><span class=\"toc-item-num\">1&nbsp;&nbsp;</span>Part I: Analytical Option Formulae</a></span><ul class=\"toc-item\"><li><span><a href=\"#Bachelier\" data-toc-modified-id=\"Bachelier-1.1\"><span class=\"toc-item-num\">1.1&nbsp;&nbsp;</span>Bachelier</a></span></li><li><span><a href=\"#Black-Scholes\" data-toc-modified-id=\"Black-Scholes-1.2\"><span class=\"toc-item-num\">1.2&nbsp;&nbsp;</span>Black-Scholes</a></span></li><li><span><a href=\"#Black76\" data-toc-modified-id=\"Black76-1.3\"><span class=\"toc-item-num\">1.3&nbsp;&nbsp;</span>Black76</a></span></li><li><span><a href=\"#Displaced-diffusion\" data-toc-modified-id=\"Displaced-diffusion-1.4\"><span class=\"toc-item-num\">1.4&nbsp;&nbsp;</span>Displaced-diffusion</a></span></li></ul></li><li><span><a href=\"#Part-II:-Model-Calibration\" data-toc-modified-id=\"Part-II:-Model-Calibration-2\"><span class=\"toc-item-num\">2&nbsp;&nbsp;</span>Part II: Model Calibration</a></span></li><li><span><a href=\"#Part-III:-Static-Replication\" data-toc-modified-id=\"Part-III:-Static-Replication-3\"><span class=\"toc-item-num\">3&nbsp;&nbsp;</span>Part III: Static Replication</a></span></li><li><span><a href=\"#Part-IV-(Dynamic-Hedging)\" data-toc-modified-id=\"Part-IV-(Dynamic-Hedging)-4\"><span class=\"toc-item-num\">4&nbsp;&nbsp;</span>Part IV (Dynamic Hedging)</a></span></li></ul></div>"
   ]
  },
  {
   "cell_type": "code",
   "execution_count": 4,
   "metadata": {},
   "outputs": [],
   "source": [
    "import numpy as np\n",
    "from scipy.stats import norm"
   ]
  },
  {
   "cell_type": "markdown",
   "metadata": {},
   "source": [
    "# Part I: Analytical Option Formulae\n",
    "\n",
    "Consider the following European options:\n",
    "- Vanilla call/put\n",
    "- Digital cash-or-nothing call/put\n",
    "- Digital asset-or-nothing call/put\n",
    "\n",
    "Derive and implement the following models to value these options in Python:\n",
    "1. Black-Scholes model\n",
    "2. Bachelier model\n",
    "3. Black76 model\n",
    "4. Displaced-diffusion model"
   ]
  },
  {
   "cell_type": "markdown",
   "metadata": {},
   "source": [
    "## Bachelier"
   ]
  },
  {
   "cell_type": "markdown",
   "metadata": {},
   "source": [
    "1. Vanilla Call Option\n",
    "$$\n",
    "    V_0^c = (S_0-K)\\Phi\\left(\\frac{S_0-K}{S_0\\sigma\\sqrt{T}}\\right) + S_0\\sigma\\sqrt{T}\\phi\\left(\\frac{S_0-K}{S_0\\sigma\\sqrt{T}}\\right)\n",
    "$$\n",
    "2. Vanilla Put Option\n",
    "$$\n",
    "    V_0^p = (K-S_0)\\Phi\\left(\\frac{K-S_0}{S_0\\sigma\\sqrt{T}}\\right) + S_0\\sigma\\sqrt{T}\\phi\\left(\\frac{K-S_0}{S_0\\sigma\\sqrt{T}}\\right)\n",
    "    \\\\\\\\\n",
    "    V_0^p = (K-S_0) + V_0^c\n",
    "$$\n",
    "3. Digital cash-or-nothing call\n",
    "$$\n",
    "    V_0^{conc} = \\Phi\\left(\\frac{S_0-K}{S_0\\sigma\\sqrt{T}}\\right)\n",
    "$$\n",
    "4. Digital cash-or-nothing put\n",
    "$$\n",
    "    V_0^{conp} = \\Phi\\left(\\frac{K-S_0}{S_0\\sigma\\sqrt{T}}\\right) = 1 - V_0^{dc}\n",
    "$$\n",
    "5. Digital asset-or-nothing call\n",
    "$$\n",
    "    V_0^{aonc} = S_0\\Phi\\left(\\frac{S_0-K}{S_0\\sigma\\sqrt{T}}\\right) + S_0\\sigma\\sqrt{T}\\phi\\left(\\frac{S_0-K}{S_0\\sigma\\sqrt{T}}\\right)\n",
    "$$\n",
    "6. Digital asset-or-nothing put\n",
    "$$\n",
    "    V_0^{aonp} = S_0\\Phi\\left(\\frac{K-S_0}{S_0\\sigma\\sqrt{T}}\\right) - S_0\\sigma\\sqrt{T}\\phi\\left(\\frac{K-S_0}{S_0\\sigma\\sqrt{T}}\\right) = S_0 - V_0^{aonc}\n",
    "$$"
   ]
  },
  {
   "cell_type": "code",
   "execution_count": 5,
   "metadata": {},
   "outputs": [],
   "source": [
    "def bachelier(So, K, sigma, T, option_type):\n",
    "    '''\n",
    "    Calculate European option price using Bachelier model:\n",
    "        dSt = sigma * S0 * dWt \n",
    "        St = S0*(1 + sigma*Wt)\n",
    "    \n",
    "    Parameter\n",
    "    ---------\n",
    "    So: float\n",
    "        price of underlying asset at time 0\n",
    "    K: float\n",
    "        strike price of option\n",
    "    sigma: float\n",
    "        variance of Brownian motion\n",
    "    T: float\n",
    "        length of time\n",
    "    option_type: str\n",
    "        type of European option. \n",
    "        Including: van call/put (vanilla), con call/put (cash-or-nothing), aon call/put (asset-or-nothing)\n",
    "    \n",
    "    Return\n",
    "    ------\n",
    "    val: value of the option at time 0\n",
    "    '''\n",
    "    \n",
    "    \n",
    "    xs = (K-So) / (So * sigma * np.sqrt(T))\n",
    "    val = None\n",
    "    \n",
    "    if So == K:\n",
    "        return sigma*So*np.sqrt(T/(2*np.pi))\n",
    "    \n",
    "    if option_type == 'van call':\n",
    "        val = (So - K) * norm.cdf(-xs) + So*sigma*np.sqrt(T)*norm.pdf(-xs)\n",
    "    elif option_type == 'van put':\n",
    "        val = (K - So) * norm.cdf(xs) + So*sigma*np.sqrt(T)*norm.pdf(xs)\n",
    "    elif option_type == 'con call':\n",
    "        val = norm.cdf(-xs)\n",
    "    elif option_type == 'con put':\n",
    "        val = norm.cdf(xs)\n",
    "    elif option_type == 'aon call':\n",
    "        val = So*norm.cdf(-xs) + So*sigma*np.sqrt(T)*norm.pdf(-xs)\n",
    "    elif option_type == 'aon put':\n",
    "        val = So*norm.cdf(xs) - So*sigma*np.sqrt(T)*norm.pdf(xs)\n",
    "    else:\n",
    "        raise(ValueError(\"Option type is invalid. \" +\n",
    "                         \"Should be either 'van call', 'van put', 'con call', 'con put', 'aon call', or 'aon put'\"))\n",
    "    \n",
    "    return val\n",
    "                "
   ]
  },
  {
   "cell_type": "code",
   "execution_count": 6,
   "metadata": {},
   "outputs": [],
   "source": [
    "So = 50\n",
    "K = 20\n",
    "sigma=0.2\n",
    "T = 4"
   ]
  },
  {
   "cell_type": "code",
   "execution_count": 7,
   "metadata": {},
   "outputs": [
    {
     "name": "stdout",
     "output_type": "stream",
     "text": [
      "Vanilla call: 30.586135875252094\n",
      "Vanilla put: 0.5861358752520927\n",
      "Cash-or-nothing call: 0.9331927987311419\n",
      "Cash-or-nothing put: 0.06680720126885807\n",
      "Asset-or-nothing call: 49.24999184987493\n",
      "Asset-or-nothing put: 0.7500081501250686\n"
     ]
    }
   ],
   "source": [
    "print(\"Vanilla call:\", bachelier(So, K, sigma, T, option_type='van call'))\n",
    "print(\"Vanilla put:\", bachelier(So, K, sigma, T, option_type='van put'))\n",
    "print(\"Cash-or-nothing call:\", bachelier(So, K, sigma, T, option_type='con call'))\n",
    "print(\"Cash-or-nothing put:\", bachelier(So, K, sigma, T, option_type='con put'))\n",
    "print(\"Asset-or-nothing call:\", bachelier(So, K, sigma, T, option_type='aon call'))\n",
    "print(\"Asset-or-nothing put:\", bachelier(So, K, sigma, T, option_type='aon put'))"
   ]
  },
  {
   "cell_type": "markdown",
   "metadata": {},
   "source": [
    "## Black-Scholes"
   ]
  },
  {
   "cell_type": "markdown",
   "metadata": {},
   "source": [
    "$$\n",
    "d_1 = \\frac{log{\\frac{S_0}{K}} + (r+\\frac{\\sigma^2}{2})T}{\\sigma\\sqrt{T}}\n",
    "$$\n",
    "\n",
    "$$\n",
    "d_2 = \\frac{log{\\frac{S_0}{K}} + (r-\\frac{\\sigma^2}{2})T}{\\sigma\\sqrt{T}}\n",
    "$$\n",
    "\n",
    "1. Vanilla Call Option\n",
    "$$\n",
    "    V_0^c = S_0\\Phi(d_1) - Ke^{-rT}\\Phi(d_2)\n",
    "$$\n",
    "2. Vanilla Put Option\n",
    "$$\n",
    "    V_0^p = -S_0\\Phi(-d_1) + Ke^{-rT}\\Phi(-d_2) = Ke^{-rT} - S_0 + V_0^c\n",
    "$$\n",
    "3. Digital cash-or-nothing call\n",
    "$$\n",
    "    V_0^{conc} = e^{-rT}\\Phi(d_2)\n",
    "$$\n",
    "4. Digital cash-or-nothing put\n",
    "$$\n",
    "    V_0^{conp} = e^{-rT}\\Phi(-d_2) = e^{-rT} - V_0^{conc}\n",
    "$$\n",
    "5. Digital asset-or-nothing call\n",
    "$$\n",
    "    V_0^{aonc} = S_0\\Phi(d_1)\n",
    "$$\n",
    "6. Digital asset-or-nothing put\n",
    "$$\n",
    "    V_0^{aonp} = S_0\\Phi(-d_1) = S_0 - V_0^{aonc}\n",
    "$$"
   ]
  },
  {
   "cell_type": "code",
   "execution_count": 11,
   "metadata": {},
   "outputs": [],
   "source": [
    "def black_scholes(So, K, r, sigma, T, option_type):\n",
    "    '''\n",
    "    Calculate European option price using Black-Scholes (1973) model:\n",
    "        dSt = r*dSt + sigma*St*dWt \n",
    "        St = S0*exp{(r-sigma^2/2)t + sigma*Wt}\n",
    "    \n",
    "    Parameter\n",
    "    ---------\n",
    "    So: float\n",
    "        price of underlying asset at time 0\n",
    "    K: float\n",
    "        strike price of option\n",
    "    r: float\n",
    "        drift of St\n",
    "    sigma: float\n",
    "        variance of Brownian motion\n",
    "    T: float\n",
    "        length of time\n",
    "    option_type: str\n",
    "        type of European option. \n",
    "        Including: van call/put (vanilla), con call/put (cash-or-nothing), aon call/put (asset-or-nothing)\n",
    "    \n",
    "    Return\n",
    "    ------\n",
    "    val: value of the option at time 0\n",
    "    '''\n",
    "    \n",
    "    \n",
    "    d1 = (np.log(So/K) + (r+sigma**2/2)*T) / (sigma*np.sqrt(T))\n",
    "    d2 = (np.log(So/K) + (r-sigma**2/2)*T) / (sigma*np.sqrt(T))\n",
    "    val = None\n",
    "    \n",
    "    if So == K:\n",
    "        return sigma*So*np.sqrt(T/(2*np.pi))\n",
    "    \n",
    "    if option_type == 'van call':\n",
    "        val = So*norm.cdf(d1) - K*np.e**(-r*T)*norm.cdf(d2)\n",
    "    elif option_type == 'van put':\n",
    "        val = -So*norm.cdf(-d1) + K*np.e**(-r*T)*norm.cdf(-d2)\n",
    "    elif option_type == 'con call':\n",
    "        val = np.e**(-r*T) * norm.cdf(d2)\n",
    "    elif option_type == 'con put':\n",
    "        val = np.e**(-r*T) * norm.cdf(-d2)\n",
    "    elif option_type == 'aon call':\n",
    "        val = So*norm.cdf(d1)\n",
    "    elif option_type == 'aon put':\n",
    "        val = So*norm.cdf(-d1)\n",
    "    else:\n",
    "        raise(ValueError(\"Option type is invalid. \" +\n",
    "                         \"Should be either 'van call', 'van put', 'con call', 'con put', 'aon call', or 'aon put'\"))\n",
    "    \n",
    "    return val\n",
    "                "
   ]
  },
  {
   "cell_type": "code",
   "execution_count": 12,
   "metadata": {},
   "outputs": [],
   "source": [
    "So = 50\n",
    "K = 20\n",
    "r = 0.13\n",
    "sigma=0.2\n",
    "T = 4"
   ]
  },
  {
   "cell_type": "code",
   "execution_count": 13,
   "metadata": {},
   "outputs": [
    {
     "name": "stdout",
     "output_type": "stream",
     "text": [
      "Vanilla call: 38.1099781201697\n",
      "Vanilla put: 0.0003890795735903797\n",
      "Cash-or-nothing call: 0.5943133351354707\n",
      "Cash-or-nothing put: 0.00020721283472371576\n",
      "Asset-or-nothing call: 49.99624482287911\n",
      "Asset-or-nothing put: 0.003755177120883936\n"
     ]
    }
   ],
   "source": [
    "print(\"Vanilla call:\", black_scholes(So, K, r, sigma, T, option_type='van call'))\n",
    "print(\"Vanilla put:\", black_scholes(So, K, r, sigma, T, option_type='van put'))\n",
    "print(\"Cash-or-nothing call:\", black_scholes(So, K, r, sigma, T, option_type='con call'))\n",
    "print(\"Cash-or-nothing put:\", black_scholes(So, K, r, sigma, T, option_type='con put'))\n",
    "print(\"Asset-or-nothing call:\", black_scholes(So, K, r, sigma, T, option_type='aon call'))\n",
    "print(\"Asset-or-nothing put:\", black_scholes(So, K, r, sigma, T, option_type='aon put'))"
   ]
  },
  {
   "cell_type": "markdown",
   "metadata": {},
   "source": [
    "## Black76"
   ]
  },
  {
   "cell_type": "code",
   "execution_count": null,
   "metadata": {},
   "outputs": [],
   "source": []
  },
  {
   "cell_type": "markdown",
   "metadata": {},
   "source": [
    "## Displaced-diffusion"
   ]
  },
  {
   "cell_type": "code",
   "execution_count": null,
   "metadata": {},
   "outputs": [],
   "source": []
  },
  {
   "cell_type": "markdown",
   "metadata": {},
   "source": [
    "# Part II: Model Calibration\n",
    "\n",
    "Calibrate the following models to match the option prices:\n",
    "1. Displaced-diffusion model\n",
    "2. SABR model (fix β = 0.8)\n",
    "\n",
    "Plot the fitted implied volatility smile against the market data.\n",
    "\n",
    "Report the model parameters: \n",
    "1. σ,β\n",
    "2. α,ρ,ν\n",
    "\n",
    "Discuss how does change β in the displaced-diffusion model and ρ, ν in the SABR model affect the shape of the implied volatility smile."
   ]
  },
  {
   "cell_type": "code",
   "execution_count": null,
   "metadata": {},
   "outputs": [],
   "source": []
  },
  {
   "cell_type": "markdown",
   "metadata": {},
   "source": [
    "# Part III: Static Replication\n",
    "\n",
    "Determine the price of these 2 derivative contracts if we use:\n",
    "1. Black-Scholes model (what σ should we use?)\n",
    "2. Bachelier model (what σ should we use?)\n",
    "3. Static-replication of European payoff (using the SABR model calibrated in the previous question)"
   ]
  },
  {
   "cell_type": "code",
   "execution_count": null,
   "metadata": {},
   "outputs": [],
   "source": []
  },
  {
   "cell_type": "markdown",
   "metadata": {},
   "source": [
    "# Part IV (Dynamic Hedging)\n",
    "\n",
    "Suppose $S_0$ = 100, σ=0.2, r=5\\%, T = 1 month, K = 100. \n",
    "\n",
    "Use a Black-Scholes model to simulate the stock price. Suppose we sell this at-the-money call option, and we hedge N times during the life of the call option. Assume there are 21 trading days over the month.\n"
   ]
  },
  {
   "cell_type": "code",
   "execution_count": null,
   "metadata": {},
   "outputs": [],
   "source": []
  },
  {
   "cell_type": "code",
   "execution_count": null,
   "metadata": {},
   "outputs": [],
   "source": []
  },
  {
   "cell_type": "code",
   "execution_count": null,
   "metadata": {},
   "outputs": [],
   "source": []
  }
 ],
 "metadata": {
  "kernelspec": {
   "display_name": "Python 3",
   "language": "python",
   "name": "python3"
  },
  "language_info": {
   "codemirror_mode": {
    "name": "ipython",
    "version": 3
   },
   "file_extension": ".py",
   "mimetype": "text/x-python",
   "name": "python",
   "nbconvert_exporter": "python",
   "pygments_lexer": "ipython3",
   "version": "3.7.4"
  },
  "toc": {
   "base_numbering": 1,
   "nav_menu": {},
   "number_sections": true,
   "sideBar": true,
   "skip_h1_title": false,
   "title_cell": "Table of Contents",
   "title_sidebar": "Contents",
   "toc_cell": true,
   "toc_position": {},
   "toc_section_display": true,
   "toc_window_display": false
  },
  "varInspector": {
   "cols": {
    "lenName": 16,
    "lenType": 16,
    "lenVar": 40
   },
   "kernels_config": {
    "python": {
     "delete_cmd_postfix": "",
     "delete_cmd_prefix": "del ",
     "library": "var_list.py",
     "varRefreshCmd": "print(var_dic_list())"
    },
    "r": {
     "delete_cmd_postfix": ") ",
     "delete_cmd_prefix": "rm(",
     "library": "var_list.r",
     "varRefreshCmd": "cat(var_dic_list()) "
    }
   },
   "types_to_exclude": [
    "module",
    "function",
    "builtin_function_or_method",
    "instance",
    "_Feature"
   ],
   "window_display": false
  }
 },
 "nbformat": 4,
 "nbformat_minor": 2
}
